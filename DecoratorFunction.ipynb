{
 "cells": [
  {
   "cell_type": "markdown",
   "metadata": {},
   "source": [
    "## Decorator\n",
    "Decorator type of patterns add new feature to an existing object. Supports dynamic changes."
   ]
  },
  {
   "cell_type": "code",
   "execution_count": 91,
   "metadata": {},
   "outputs": [],
   "source": [
    "from functools import wraps"
   ]
  },
  {
   "cell_type": "code",
   "execution_count": 92,
   "metadata": {},
   "outputs": [],
   "source": [
    "def make_blink(function):\n",
    "    @wraps(function)\n",
    "    def decorator(*args, **kwargs):\n",
    "        print(args, kwargs)\n",
    "        result = function(*args, **kwargs)\n",
    "        return f\"<blink> {result} </blink>\"\n",
    "    return decorator"
   ]
  },
  {
   "cell_type": "code",
   "execution_count": 93,
   "metadata": {},
   "outputs": [],
   "source": [
    "@make_blink\n",
    "def hello_world(name: str) -> str:\n",
    "    \"\"\"Original function.\"\"\"\n",
    "    return f'Hello World said \"{name}\"!'"
   ]
  },
  {
   "cell_type": "code",
   "execution_count": 94,
   "metadata": {},
   "outputs": [
    {
     "name": "stdout",
     "output_type": "stream",
     "text": [
      "() {'name': 'James'}\n",
      "<blink> Hello World said \"James\"! </blink>\n"
     ]
    }
   ],
   "source": [
    "print(hello_world(name = \"James\"))"
   ]
  }
 ],
 "metadata": {
  "kernelspec": {
   "display_name": "Python 3",
   "language": "python",
   "name": "python3"
  },
  "language_info": {
   "codemirror_mode": {
    "name": "ipython",
    "version": 3
   },
   "file_extension": ".py",
   "mimetype": "text/x-python",
   "name": "python",
   "nbconvert_exporter": "python",
   "pygments_lexer": "ipython3",
   "version": "3.8.10"
  }
 },
 "nbformat": 4,
 "nbformat_minor": 4
}

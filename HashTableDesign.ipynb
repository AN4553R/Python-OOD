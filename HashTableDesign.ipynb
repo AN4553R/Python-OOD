{
 "cells": [
  {
   "cell_type": "markdown",
   "metadata": {},
   "source": [
    "## Design a hash map\n",
    "### Constraints and assumptions¶\n",
    "- For simplicity, are the keys integers only?\n",
    " > Yes\n",
    "- For collision resolution, can we use chaining?\n",
    "> Yes\n",
    "- Do we have to worry about load factors?\n",
    "> No\n",
    "- Can we assume inputs are valid or do we have to validate them?\n",
    "> Assume they're valid\n",
    "- Can we assume this fits memory?\n",
    "> Yes"
   ]
  },
  {
   "cell_type": "code",
   "execution_count": 1,
   "metadata": {},
   "outputs": [],
   "source": [
    "class Item:\n",
    "    def __init__(self, key, value):\n",
    "        self.key = key\n",
    "        self.value = value"
   ]
  },
  {
   "cell_type": "code",
   "execution_count": 2,
   "metadata": {},
   "outputs": [],
   "source": [
    "class HashTable:\n",
    "    def __init__(self, size):\n",
    "        self.size = size\n",
    "        self.table = [[] for _ in range(size)]\n",
    "    \n",
    "    def hash_function(self, key):\n",
    "        return key % self.size\n",
    "    \n",
    "    def set(self, key, value):\n",
    "        hash_index = hash_function(key)\n",
    "        for item in self.table[hash_index]:\n",
    "            if item.key == key:\n",
    "                item.value = value\n",
    "                return\n",
    "        self.table[hash_index].append(Item(key, value))\n",
    "        \n",
    "    def get(self, key):\n",
    "        hash_index = hash_function(key)\n",
    "        for item in self.table[hash_index]:\n",
    "            if item.key == key:\n",
    "                item.value = value\n",
    "                return\n",
    "        raise KeyError(\"Key not found!\")\n",
    "        \n",
    "    def remove(self, key):\n",
    "        hash_index = hash_function(key)\n",
    "        for index, item in enumerate(self.table[hash_index]):\n",
    "            if item.key == key:\n",
    "                del self.table[hash_index][index]\n",
    "                return\n",
    "        raise KeyError(\"Key not found!\")"
   ]
  }
 ],
 "metadata": {
  "kernelspec": {
   "display_name": "Python 3",
   "language": "python",
   "name": "python3"
  },
  "language_info": {
   "codemirror_mode": {
    "name": "ipython",
    "version": 3
   },
   "file_extension": ".py",
   "mimetype": "text/x-python",
   "name": "python",
   "nbconvert_exporter": "python",
   "pygments_lexer": "ipython3",
   "version": "3.8.10"
  }
 },
 "nbformat": 4,
 "nbformat_minor": 4
}

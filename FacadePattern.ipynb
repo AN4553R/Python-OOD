{
 "cells": [
  {
   "cell_type": "markdown",
   "metadata": {},
   "source": [
    "## Facade\n",
    "The Facade pattern is a way to provide a simpler unified interface to a more complex system. It provides an easier way to access functions of the underlying system by providing a single entry point."
   ]
  },
  {
   "cell_type": "code",
   "execution_count": 143,
   "metadata": {},
   "outputs": [],
   "source": [
    "from abc import ABC, abstractmethod\n",
    "import time"
   ]
  },
  {
   "cell_type": "code",
   "execution_count": 144,
   "metadata": {},
   "outputs": [],
   "source": [
    "_sleep:float = 0.2\n",
    "\n",
    "class TestCase(ABC):\n",
    "    \"\"\"Abstract testcase interface\"\"\"\n",
    "    @abstractmethod\n",
    "    def run(self) -> None:\n",
    "        pass"
   ]
  },
  {
   "cell_type": "code",
   "execution_count": 145,
   "metadata": {},
   "outputs": [],
   "source": [
    "class TestCaseOne(TestCase):\n",
    "    \"\"\"Concrete test case one\"\"\"\n",
    "    def __init__(self, name: str) -> None:\n",
    "        self._name = name\n",
    "    \n",
    "    def run(self) -> None:\n",
    "        print(\"{:#^20}\".format(self._name))\n",
    "        time.sleep(_sleep)\n",
    "        print(\"Setting up test case one\")\n",
    "        time.sleep(_sleep)\n",
    "        print(\"Running test\")\n",
    "        time.sleep(_sleep)\n",
    "        print(\"Tearing down\")\n",
    "        time.sleep(_sleep)\n",
    "        print(\"Test finished\")"
   ]
  },
  {
   "cell_type": "code",
   "execution_count": 146,
   "metadata": {},
   "outputs": [],
   "source": [
    "class TestCaseTwo(TestCase):\n",
    "    \"\"\"Concrete test case two\"\"\"\n",
    "    def __init__(self, name: str) -> None:\n",
    "        self._name = name\n",
    "    \n",
    "    def run(self) -> None:\n",
    "        print(\"{:#^20}\".format(self._name))\n",
    "        time.sleep(_sleep)\n",
    "        print(\"Setting up test case one\")\n",
    "        time.sleep(_sleep)\n",
    "        print(\"Running test\")\n",
    "        time.sleep(_sleep)\n",
    "        print(\"Tearing down\")\n",
    "        time.sleep(_sleep)\n",
    "        print(\"Test finished\")"
   ]
  },
  {
   "cell_type": "code",
   "execution_count": 147,
   "metadata": {},
   "outputs": [],
   "source": [
    "class TestCaseThree(TestCase):\n",
    "    \"\"\"Concrete test case three\"\"\"\n",
    "    def __init__(self, name: str) -> None:\n",
    "        self._name = name\n",
    "    \n",
    "    def run(self) -> None:\n",
    "        print(\"{:#^20}\".format(self._name))\n",
    "        time.sleep(_sleep)\n",
    "        print(\"Setting up test case one\")\n",
    "        time.sleep(_sleep)\n",
    "        print(\"Running test\")\n",
    "        time.sleep(_sleep)\n",
    "        print(\"Tearing down\")\n",
    "        time.sleep(_sleep)\n",
    "        print(\"Test three finished\")"
   ]
  },
  {
   "cell_type": "code",
   "execution_count": 148,
   "metadata": {},
   "outputs": [],
   "source": [
    "class TestSuite:\n",
    "    \"\"\"\n",
    "    Represents simpler unified interface to run all test cases\n",
    "    \n",
    "    A facade class itself.\n",
    "    \"\"\"\n",
    "    \n",
    "    def __init__(self, testcases) -> None:\n",
    "        self._testcases = testcases\n",
    "    \n",
    "    def run(self) -> None:\n",
    "        for testcase in self._testcases:\n",
    "            testcase.run()"
   ]
  },
  {
   "cell_type": "code",
   "execution_count": 149,
   "metadata": {},
   "outputs": [],
   "source": [
    "test_cases = [TestCaseOne(\"TC1\"), TestCaseTwo(\"TC2\"), TestCaseThree(\"TC3\")]"
   ]
  },
  {
   "cell_type": "code",
   "execution_count": 150,
   "metadata": {},
   "outputs": [
    {
     "name": "stdout",
     "output_type": "stream",
     "text": [
      "########TC1#########\n",
      "Setting up test case one\n",
      "Running test\n",
      "Tearing down\n",
      "Test finished\n",
      "########TC2#########\n",
      "Setting up test case one\n",
      "Running test\n",
      "Tearing down\n",
      "Test finished\n",
      "########TC3#########\n",
      "Setting up test case one\n",
      "Running test\n",
      "Tearing down\n",
      "Test three finished\n"
     ]
    }
   ],
   "source": [
    "test_suite = TestSuite(test_cases)\n",
    "test_suite.run()"
   ]
  },
  {
   "cell_type": "code",
   "execution_count": null,
   "metadata": {},
   "outputs": [],
   "source": []
  }
 ],
 "metadata": {
  "kernelspec": {
   "display_name": "Python 3",
   "language": "python",
   "name": "python3"
  },
  "language_info": {
   "codemirror_mode": {
    "name": "ipython",
    "version": 3
   },
   "file_extension": ".py",
   "mimetype": "text/x-python",
   "name": "python",
   "nbconvert_exporter": "python",
   "pygments_lexer": "ipython3",
   "version": "3.8.10"
  }
 },
 "nbformat": 4,
 "nbformat_minor": 4
}

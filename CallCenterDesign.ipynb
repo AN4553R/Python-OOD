{
 "cells": [
  {
   "cell_type": "markdown",
   "metadata": {},
   "source": [
    "### Design a call center\n",
    "#### Constraints and assumptions\n",
    "- What levels of employees are in the call center?\n",
    "    - Operator, supervisor, director\n",
    "- Can we assume operators always get the initial calls?\n",
    "    - Yes\n",
    "- If there is no available operators or the operator can't handle the call, does the call go to the supervisors?\n",
    "    - Yes\n",
    "- If there is no available supervisors or the supervisor can't handle the call, does the call go to the directors?\n",
    "    - Yes\n",
    "- Can we assume the directors can handle all calls?\n",
    "    - Yes\n",
    "- What happens if nobody can answer the call?\n",
    "    - It gets queued\n",
    "- Do we need to handle 'VIP' calls where we put someone to the front of the line?\n",
    "    - No\n",
    "- Can we assume inputs are valid or do we have to validate them?\n",
    "    - Assume they're valid"
   ]
  },
  {
   "cell_type": "code",
   "execution_count": 81,
   "metadata": {},
   "outputs": [],
   "source": [
    "from abc import ABC, abstractmethod\n",
    "from enum import Enum\n",
    "from collections import deque"
   ]
  },
  {
   "cell_type": "code",
   "execution_count": 82,
   "metadata": {},
   "outputs": [],
   "source": [
    "class Rank(Enum):\n",
    "    OPERATOR = 0\n",
    "    SUPERVISOR = 1\n",
    "    DIRECTOR = 2\n",
    "    \n",
    "class CallState(Enum):\n",
    "    RAEDY = 0\n",
    "    IN_PROGRESS = 1\n",
    "    DONE = 2"
   ]
  },
  {
   "cell_type": "code",
   "execution_count": 83,
   "metadata": {},
   "outputs": [],
   "source": [
    "class Employee(ABC):\n",
    "    \"\"\"abstract call center employee\"\"\"\n",
    "    \n",
    "    def __init__(self, employee_id, name, rank, call_center) -> None:\n",
    "        self.employee_id = employee_id\n",
    "        self.name = name\n",
    "        self.rank = rank\n",
    "        self.call = None\n",
    "        self.call_center = call_center\n",
    "    \n",
    "    def handle_call(self, call) -> None:\n",
    "        self.call = call\n",
    "        call.handler = self\n",
    "        self.call.state = CallState.IN_PROGRESS\n",
    "    \n",
    "    def complete_call(self) -> None:\n",
    "        self.call.state = CallState.DONE\n",
    "        self.call_center.notify_call_completed(self.call)\n",
    "        self.call = None\n",
    "        \n",
    "    @abstractmethod\n",
    "    def escalate_call(self) -> None:\n",
    "        pass\n",
    "    \n",
    "    def _escalate_call(self):\n",
    "        self.call.state = CallState.READY\n",
    "        call = self.call\n",
    "        self.call = None\n",
    "        self.call_center.notify_call_escalated(call)"
   ]
  },
  {
   "cell_type": "code",
   "execution_count": 84,
   "metadata": {},
   "outputs": [],
   "source": [
    "class Operator(Employee):\n",
    "    \"\"\"concrete operator class\"\"\"\n",
    "    def __init__(self, employee_id, name, call_center):\n",
    "        super(Operator, self).__init__(emplotee_id, name, Rank.OPERATOR, call_center)\n",
    "    \n",
    "    def escalate_call(self):\n",
    "        self.call.level = Rank.SUPERVISOR\n",
    "        self._escalate_call()"
   ]
  },
  {
   "cell_type": "code",
   "execution_count": 85,
   "metadata": {},
   "outputs": [],
   "source": [
    "class Supervisor(Employee):\n",
    "    \"\"\"concrete supervisor class\"\"\"\n",
    "    def __init__(self, employee_id, name, call_center):\n",
    "        super(Supervisor, self).__init__(employee_id, name, Rank.SUPERVISOR, call_center)\n",
    "    \n",
    "    def escalate_call(self):\n",
    "        self.call.level = Rank.DIRECTOR\n",
    "        self._escalate_call()"
   ]
  },
  {
   "cell_type": "code",
   "execution_count": 86,
   "metadata": {},
   "outputs": [],
   "source": [
    "class Director(Employee):\n",
    "    \"\"\"concrete director class\"\"\"\n",
    "    def __init__(self, employee_id, name, call_center):\n",
    "        super(Director, self).__init__(employee_id, name, Rank.DIRECTOR, call_center)\n",
    "    \n",
    "    def escalate_call(self):\n",
    "        raise NotImplemented(\"Director must be able to handle any call\")"
   ]
  },
  {
   "cell_type": "code",
   "execution_count": 87,
   "metadata": {},
   "outputs": [],
   "source": [
    "class Call:\n",
    "    \"\"\"concrete call class\"\"\"\n",
    "    def __init__(self, level):\n",
    "        self.level = Rank.OPERATOR\n",
    "        self.state = CallState.READY\n",
    "        self.employee = None"
   ]
  },
  {
   "cell_type": "code",
   "execution_count": 88,
   "metadata": {},
   "outputs": [],
   "source": [
    "class CallCenter:\n",
    "    \"\"\"concrete call center class\"\"\"\n",
    "    \n",
    "    def __init__(self, operators, supervisors, directors):\n",
    "        self.operators = operators\n",
    "        self.supervisors = supervisors\n",
    "        self.directors = directors\n",
    "        self.calls_queue = deque()\n",
    "    \n",
    "    def dispatch_call(self, call):\n",
    "        if call.level not in Rank.__members__:\n",
    "            raise ValueError(f'Invalid all level: {call.level}')\n",
    "    \n",
    "        employee = none\n",
    "    \n",
    "        if call.level == Rank.OPERATOR:\n",
    "            employee = self._dispatch_call(call, self.operators)\n",
    "        if call.level == Rank.SUPERVISOR or employee is None:\n",
    "            employee = self._dispatch_call(call, self.supervisors)\n",
    "        if call.level == Rank.DIRECTOR or employee is None:\n",
    "            employee = self._dispatch_call(call, self.directors)\n",
    "    \n",
    "    def _dispatch_call(call, employees):\n",
    "        for employee in employees:\n",
    "            if employee.call is None:\n",
    "                employee.handle_call(call)\n",
    "                return employee\n",
    "        return None\n",
    "    def notify_call_escalated(self, call):pass  # ...\n",
    "    def notify_call_completed(self, call):pass  # ...\n",
    "    def dispatch_queued_call_to_newly_freed_employee(self, call, employee):pass  # ..."
   ]
  }
 ],
 "metadata": {
  "kernelspec": {
   "display_name": "Python 3",
   "language": "python",
   "name": "python3"
  },
  "language_info": {
   "codemirror_mode": {
    "name": "ipython",
    "version": 3
   },
   "file_extension": ".py",
   "mimetype": "text/x-python",
   "name": "python",
   "nbconvert_exporter": "python",
   "pygments_lexer": "ipython3",
   "version": "3.8.10"
  }
 },
 "nbformat": 4,
 "nbformat_minor": 4
}

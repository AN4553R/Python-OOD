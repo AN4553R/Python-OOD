{
 "cells": [
  {
   "cell_type": "code",
   "execution_count": 9,
   "metadata": {},
   "outputs": [],
   "source": [
    "from abc import ABC, abstractmethod"
   ]
  },
  {
   "cell_type": "code",
   "execution_count": 10,
   "metadata": {},
   "outputs": [],
   "source": [
    "class Shape(ABC):\n",
    "    \"\"\"Defines a  shape interface\"\"\"\n",
    "    \n",
    "    @abstractmethod\n",
    "    def draw(self) -> str:\n",
    "        \"\"\"Draws a shape\"\"\"\n",
    "        pass"
   ]
  },
  {
   "cell_type": "code",
   "execution_count": 3,
   "metadata": {},
   "outputs": [],
   "source": [
    "class ShapeError(Exception):\n",
    "    \"\"\"Represents shape error message\"\"\"\n",
    "    \n",
    "    pass"
   ]
  },
  {
   "cell_type": "code",
   "execution_count": 4,
   "metadata": {},
   "outputs": [],
   "source": [
    "class Circle(Shape):\n",
    "    \"\"\"A shape subbclass\"\"\"\n",
    "    \n",
    "    def draw(self) -> str:\n",
    "        return \"Circle.draw\""
   ]
  },
  {
   "cell_type": "code",
   "execution_count": 5,
   "metadata": {},
   "outputs": [],
   "source": [
    "class Square(Shape):\n",
    "    \"\"\"A shape suclass\"\"\"\n",
    "    \n",
    "    def draw(self) -> str:\n",
    "        return \"Square.draw\""
   ]
  },
  {
   "cell_type": "code",
   "execution_count": 6,
   "metadata": {},
   "outputs": [],
   "source": [
    "class ShapeFactory:\n",
    "    \"\"\"A shape factory\"\"\"\n",
    "    \n",
    "    def __init__(self, shape: str) -> None:\n",
    "        self._shape: str = shape\n",
    "    \n",
    "    def shape(self) -> Shape:\n",
    "        \"\"\"rerturns a shape\"\"\"\n",
    "    \n",
    "        if self._shape == 'circle':\n",
    "            return Circle()\n",
    "        if self._shape == 'square':\n",
    "            return Square()\n",
    "        raise ShapeError(\"The shape %s doesn't exist!\" % self._shape)\n",
    "        "
   ]
  },
  {
   "cell_type": "code",
   "execution_count": 7,
   "metadata": {},
   "outputs": [
    {
     "name": "stdout",
     "output_type": "stream",
     "text": [
      "Circle\n",
      "Circle.draw\n"
     ]
    }
   ],
   "source": [
    "factory: ShapeFactory = ShapeFactory(shape = \"circle\")\n",
    "circle: Shape = factory.shape()\n",
    "print(circle.__class__.__name__)\n",
    "print(circle.draw())"
   ]
  },
  {
   "cell_type": "code",
   "execution_count": 8,
   "metadata": {},
   "outputs": [
    {
     "name": "stdout",
     "output_type": "stream",
     "text": [
      "Square\n",
      "Square.draw\n"
     ]
    }
   ],
   "source": [
    "factory: ShapeFactory = ShapeFactory(shape = \"square\")\n",
    "square: Shape = factory.shape()\n",
    "print(square.__class__.__name__)\n",
    "print(square.draw())"
   ]
  },
  {
   "cell_type": "code",
   "execution_count": 9,
   "metadata": {},
   "outputs": [
    {
     "ename": "ShapeError",
     "evalue": "The shape rectangle doesn't exist!",
     "output_type": "error",
     "traceback": [
      "\u001b[0;31m---------------------------------------------------------------------------\u001b[0m",
      "\u001b[0;31mShapeError\u001b[0m                                Traceback (most recent call last)",
      "\u001b[0;32m<ipython-input-9-bd8c5e0796e1>\u001b[0m in \u001b[0;36m<module>\u001b[0;34m\u001b[0m\n\u001b[1;32m      1\u001b[0m \u001b[0mfactory\u001b[0m  \u001b[0;34m=\u001b[0m \u001b[0mShapeFactory\u001b[0m\u001b[0;34m(\u001b[0m\u001b[0mshape\u001b[0m \u001b[0;34m=\u001b[0m \u001b[0;34m\"rectangle\"\u001b[0m\u001b[0;34m)\u001b[0m\u001b[0;34m\u001b[0m\u001b[0;34m\u001b[0m\u001b[0m\n\u001b[0;32m----> 2\u001b[0;31m \u001b[0mrectangle\u001b[0m \u001b[0;34m=\u001b[0m \u001b[0mfactory\u001b[0m\u001b[0;34m.\u001b[0m\u001b[0mshape\u001b[0m\u001b[0;34m(\u001b[0m\u001b[0;34m)\u001b[0m\u001b[0;34m\u001b[0m\u001b[0;34m\u001b[0m\u001b[0m\n\u001b[0m",
      "\u001b[0;32m<ipython-input-6-3e0f4d1fd187>\u001b[0m in \u001b[0;36mshape\u001b[0;34m(self)\u001b[0m\n\u001b[1;32m     12\u001b[0m         \u001b[0;32mif\u001b[0m \u001b[0mself\u001b[0m\u001b[0;34m.\u001b[0m\u001b[0m_shape\u001b[0m \u001b[0;34m==\u001b[0m \u001b[0;34m'square'\u001b[0m\u001b[0;34m:\u001b[0m\u001b[0;34m\u001b[0m\u001b[0;34m\u001b[0m\u001b[0m\n\u001b[1;32m     13\u001b[0m             \u001b[0;32mreturn\u001b[0m \u001b[0mSquare\u001b[0m\u001b[0;34m(\u001b[0m\u001b[0;34m)\u001b[0m\u001b[0;34m\u001b[0m\u001b[0;34m\u001b[0m\u001b[0m\n\u001b[0;32m---> 14\u001b[0;31m         \u001b[0;32mraise\u001b[0m \u001b[0mShapeError\u001b[0m\u001b[0;34m(\u001b[0m\u001b[0;34m\"The shape %s doesn't exist!\"\u001b[0m \u001b[0;34m%\u001b[0m \u001b[0mself\u001b[0m\u001b[0;34m.\u001b[0m\u001b[0m_shape\u001b[0m\u001b[0;34m)\u001b[0m\u001b[0;34m\u001b[0m\u001b[0;34m\u001b[0m\u001b[0m\n\u001b[0m\u001b[1;32m     15\u001b[0m \u001b[0;34m\u001b[0m\u001b[0m\n",
      "\u001b[0;31mShapeError\u001b[0m: The shape rectangle doesn't exist!"
     ]
    }
   ],
   "source": [
    "factory  = ShapeFactory(shape = \"rectangle\")\n",
    "rectangle = factory.shape()"
   ]
  },
  {
   "cell_type": "code",
   "execution_count": 10,
   "metadata": {},
   "outputs": [
    {
     "data": {
      "text/plain": [
       "24"
      ]
     },
     "execution_count": 10,
     "metadata": {},
     "output_type": "execute_result"
    }
   ],
   "source": [
    "import json\n",
    "\n",
    "x = '{\"name\": \"abdo\", \"age\":24}'\n",
    "\n",
    "x = json.loads(x)\n",
    "\n",
    "x['age']"
   ]
  },
  {
   "cell_type": "code",
   "execution_count": 11,
   "metadata": {},
   "outputs": [
    {
     "data": {
      "text/plain": [
       "'{\"name\": \"ahmed\", \"age\": 56}'"
      ]
     },
     "execution_count": 11,
     "metadata": {},
     "output_type": "execute_result"
    }
   ],
   "source": [
    "x = {\n",
    "    \"name\": \"ahmed\",\n",
    "    \"age\": 56\n",
    "}\n",
    "\n",
    "y = json.dumps(x)\n",
    "y"
   ]
  },
  {
   "cell_type": "code",
   "execution_count": 12,
   "metadata": {},
   "outputs": [],
   "source": [
    "from abc import ABC, abstractmethod"
   ]
  },
  {
   "cell_type": "code",
   "execution_count": 14,
   "metadata": {},
   "outputs": [],
   "source": [
    "class Pet(ABC):\n",
    "    \"\"\"Abbstraction of a pet\"\"\"\n",
    "    \n",
    "    @abstractmethod\n",
    "    def speak(self)  -> str:\n",
    "        \"\"\"interface for a pet to speak\"\"\"\n",
    "        pass\n"
   ]
  },
  {
   "cell_type": "code",
   "execution_count": 15,
   "metadata": {},
   "outputs": [],
   "source": [
    "class Dog(Pet):\n",
    "    \"\"\"Dog pet class\"\"\"\n",
    "    def __init__(self, name: str):\n",
    "        self._name = name\n",
    "        \n",
    "    def speak(self) -> str:\n",
    "        return \"%s says woof\" % self._name"
   ]
  },
  {
   "cell_type": "code",
   "execution_count": 29,
   "metadata": {},
   "outputs": [],
   "source": [
    "class Cat(Pet):\n",
    "    \"\"\"Cat pet class\"\"\"\n",
    "    \n",
    "    def __init__(self, name: str):\n",
    "        self._name = name\n",
    "    \n",
    "    def speak(self) -> str:\n",
    "        return \"%s says meow\" % self._name"
   ]
  },
  {
   "cell_type": "code",
   "execution_count": 30,
   "metadata": {},
   "outputs": [],
   "source": [
    "def get_pet(pet: str) -> Pet:\n",
    "    \"\"\"The factory method.\"\"\"\n",
    "    return {\"dog\": Dog(\"Hope\"), \"cat\": Cat(\"Faith\")}[pet]"
   ]
  },
  {
   "cell_type": "code",
   "execution_count": 33,
   "metadata": {},
   "outputs": [
    {
     "data": {
      "text/plain": [
       "'Hope says woof'"
      ]
     },
     "execution_count": 33,
     "metadata": {},
     "output_type": "execute_result"
    }
   ],
   "source": [
    "get_pet(\"dog\").speak()"
   ]
  }
 ],
 "metadata": {
  "kernelspec": {
   "display_name": "Python 3",
   "language": "python",
   "name": "python3"
  },
  "language_info": {
   "codemirror_mode": {
    "name": "ipython",
    "version": 3
   },
   "file_extension": ".py",
   "mimetype": "text/x-python",
   "name": "python",
   "nbconvert_exporter": "python",
   "pygments_lexer": "ipython3",
   "version": "3.8.10"
  }
 },
 "nbformat": 4,
 "nbformat_minor": 4
}

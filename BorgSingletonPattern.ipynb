{
 "cells": [
  {
   "cell_type": "markdown",
   "metadata": {},
   "source": [
    "##  Borg Singleton (Monostate)\n",
    "The Singleton design pattern is all about ensuring that just one instance of a certain class is ever created.Typically, what we really want is to let as many instances be created as necessary, but all with shared state. Who cares about identity? It’s state (and behavior) we care about. This alternate pattern to solve roughly the same problems has also been called Monostate. Incidentally, I like to call Singleton “Highlander”, since there can be only one."
   ]
  },
  {
   "cell_type": "code",
   "execution_count": 31,
   "metadata": {},
   "outputs": [],
   "source": [
    "from typing import Any, Dict"
   ]
  },
  {
   "cell_type": "code",
   "execution_count": 32,
   "metadata": {},
   "outputs": [],
   "source": [
    "class Borg:\n",
    "    \"\"\"\n",
    "    This class make class attributes global\n",
    "    Save the same state of all instances but instances are all different\n",
    "    \"\"\"\n",
    "    \n",
    "    _shared_state: Dict[Any, Any] = {}\n",
    "        \n",
    "    def __init__(self) -> None:\n",
    "        self.__dict__ = self._shared_state"
   ]
  },
  {
   "cell_type": "code",
   "execution_count": 33,
   "metadata": {},
   "outputs": [],
   "source": [
    "class BorgSingleton(Borg):\n",
    "    \"\"\"This class shares all its attributes amoung its instances. Store the same state\"\"\"\n",
    "    \n",
    "    def __init__(self, **kwargs: Any) -> None:\n",
    "        Borg.__init__(self)\n",
    "        self._shared_state.update(kwargs)\n",
    "        \n",
    "    def __str__(self):\n",
    "        return str(self._shared_state)\n",
    "        "
   ]
  },
  {
   "cell_type": "code",
   "execution_count": 34,
   "metadata": {},
   "outputs": [],
   "source": [
    "x: Borg = BorgSingleton(URL = \"https://codeforces.com\")\n",
    "y: Borg = BorgSingleton(URL = \"https://leetcode.com\")"
   ]
  },
  {
   "cell_type": "code",
   "execution_count": 35,
   "metadata": {},
   "outputs": [
    {
     "name": "stdout",
     "output_type": "stream",
     "text": [
      "{'URL': 'https://leetcode.com'} {'URL': 'https://leetcode.com'}\n"
     ]
    }
   ],
   "source": [
    "print(x, y)"
   ]
  },
  {
   "cell_type": "code",
   "execution_count": null,
   "metadata": {},
   "outputs": [],
   "source": []
  }
 ],
 "metadata": {
  "kernelspec": {
   "display_name": "Python 3",
   "language": "python",
   "name": "python3"
  },
  "language_info": {
   "codemirror_mode": {
    "name": "ipython",
    "version": 3
   },
   "file_extension": ".py",
   "mimetype": "text/x-python",
   "name": "python",
   "nbconvert_exporter": "python",
   "pygments_lexer": "ipython3",
   "version": "3.8.10"
  }
 },
 "nbformat": 4,
 "nbformat_minor": 4
}

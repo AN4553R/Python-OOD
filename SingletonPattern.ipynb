{
 "cells": [
  {
   "cell_type": "code",
   "execution_count": null,
   "metadata": {},
   "outputs": [],
   "source": []
  },
  {
   "cell_type": "code",
   "execution_count": 163,
   "metadata": {},
   "outputs": [],
   "source": [
    "from typing import Any, Dict"
   ]
  },
  {
   "cell_type": "code",
   "execution_count": 164,
   "metadata": {},
   "outputs": [],
   "source": [
    "class Singleton:\n",
    "    \"\"\"Make all instances as the same object\"\"\"\n",
    "    \n",
    "    def __new__(cls):\n",
    "        if not hasattr(cls, \"_instance\"):\n",
    "            cls._instance = super(Singleton, cls).__new__(cls)\n",
    "        return cls._instance"
   ]
  },
  {
   "cell_type": "code",
   "execution_count": 165,
   "metadata": {},
   "outputs": [],
   "source": [
    "def singleton(cls):\n",
    "    \"\"\"A singleton decorator\"\"\"\n",
    "    \n",
    "    instances = {}\n",
    "    \n",
    "    def get_instance():\n",
    "        if cls not in instances:\n",
    "            instances[cls] = cls()\n",
    "        return instances[cls]\n",
    "    \n",
    "    return get_instance\n",
    "    "
   ]
  },
  {
   "cell_type": "code",
   "execution_count": 166,
   "metadata": {},
   "outputs": [],
   "source": [
    "@singleton\n",
    "class Bar:\n",
    "    \"\"\"A fancy object.\"\"\"\n",
    "\n",
    "    pass"
   ]
  },
  {
   "cell_type": "code",
   "execution_count": 167,
   "metadata": {},
   "outputs": [],
   "source": [
    "singleton_one: Singleton = Singleton()\n",
    "singleton_two: Singleton = Singleton()\n"
   ]
  },
  {
   "cell_type": "code",
   "execution_count": 168,
   "metadata": {},
   "outputs": [
    {
     "name": "stdout",
     "output_type": "stream",
     "text": [
      "140174256088640\n",
      "140174256088640\n",
      "True\n"
     ]
    }
   ],
   "source": [
    "print(id(singleton_one))\n",
    "print(id(singleton_two))\n",
    "print(singleton_one is singleton_two)"
   ]
  },
  {
   "cell_type": "code",
   "execution_count": 169,
   "metadata": {},
   "outputs": [
    {
     "name": "stdout",
     "output_type": "stream",
     "text": [
      "140174247222960\n",
      "140174247222960\n",
      "True\n"
     ]
    }
   ],
   "source": [
    "bar_one: Bar = Bar()\n",
    "bar_two: Bar = Bar()\n",
    "print(id(bar_one))\n",
    "print(id(bar_two))\n",
    "print(bar_one is bar_two)"
   ]
  },
  {
   "cell_type": "code",
   "execution_count": null,
   "metadata": {},
   "outputs": [],
   "source": []
  }
 ],
 "metadata": {
  "kernelspec": {
   "display_name": "Python 3",
   "language": "python",
   "name": "python3"
  },
  "language_info": {
   "codemirror_mode": {
    "name": "ipython",
    "version": 3
   },
   "file_extension": ".py",
   "mimetype": "text/x-python",
   "name": "python",
   "nbconvert_exporter": "python",
   "pygments_lexer": "ipython3",
   "version": "3.8.10"
  }
 },
 "nbformat": 4,
 "nbformat_minor": 4
}

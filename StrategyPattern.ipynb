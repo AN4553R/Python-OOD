{
 "cells": [
  {
   "cell_type": "markdown",
   "metadata": {},
   "source": [
    "## Strategy\n",
    "Strategy patterns used to dynamically change the behavior of an object. Add dynamically objects with types module."
   ]
  },
  {
   "cell_type": "code",
   "execution_count": 158,
   "metadata": {},
   "outputs": [],
   "source": [
    "import types"
   ]
  },
  {
   "cell_type": "code",
   "execution_count": 163,
   "metadata": {},
   "outputs": [],
   "source": [
    "class Strategy:\n",
    "    \"\"\"A strategy pattern class.\"\"\"\n",
    "\n",
    "    def __init__(self, func: Callable[[\"Strategy\"], Any] = None) -> None:\n",
    "        self._name: str = \"Default strategy\"\n",
    "        if func:\n",
    "            self.execute = types.MethodType(func, self)\n",
    "\n",
    "    @property\n",
    "    def name(self) -> str:\n",
    "        return self._name\n",
    "\n",
    "    @name.setter\n",
    "    def name(self, name: str) -> None:\n",
    "        if not isinstance(name, str):\n",
    "            raise ValueError(f'\"{name}\" value should be a string data type!')\n",
    "        self._name = name\n",
    "\n",
    "    def execute(self):\n",
    "        print(f\"{self._name} is used\")\n",
    "\n",
    "\n",
    "def strategy_function_one(strategy: Strategy) -> None:\n",
    "    print(f\"{strategy.name} is used to execute method one\")\n",
    "\n",
    "\n",
    "def strategy_function_two(strategy: Strategy) -> None:\n",
    "    print(f\"{strategy.name} is used to execute method two\")"
   ]
  },
  {
   "cell_type": "code",
   "execution_count": 164,
   "metadata": {},
   "outputs": [
    {
     "name": "stdout",
     "output_type": "stream",
     "text": [
      "Default strategy is used\n",
      "Strategy one is used to execute method one\n",
      "Strategy two is used to execute method two\n"
     ]
    }
   ],
   "source": [
    "default_strategy = Strategy()\n",
    "default_strategy.execute()\n",
    "\n",
    "first_strategy = Strategy(func=strategy_function_one)\n",
    "first_strategy.name = \"Strategy one\"\n",
    "first_strategy.execute()\n",
    "\n",
    "second_strategy = Strategy(func=strategy_function_two)\n",
    "second_strategy.name = \"Strategy two\"\n",
    "second_strategy.execute()"
   ]
  },
  {
   "cell_type": "code",
   "execution_count": null,
   "metadata": {},
   "outputs": [],
   "source": []
  }
 ],
 "metadata": {
  "kernelspec": {
   "display_name": "Python 3",
   "language": "python",
   "name": "python3"
  },
  "language_info": {
   "codemirror_mode": {
    "name": "ipython",
    "version": 3
   },
   "file_extension": ".py",
   "mimetype": "text/x-python",
   "name": "python",
   "nbconvert_exporter": "python",
   "pygments_lexer": "ipython3",
   "version": "3.8.10"
  }
 },
 "nbformat": 4,
 "nbformat_minor": 4
}
